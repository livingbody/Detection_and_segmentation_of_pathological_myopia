{
 "cells": [
  {
   "cell_type": "markdown",
   "metadata": {
    "collapsed": false
   },
   "source": [
    "# 飞桨常规赛：PALM眼底彩照视盘探测与分割 5月第2名方案\n",
    "# 一、PaddleX助力【常规赛：PALM眼底彩照视盘探测与分割】\n",
    "\n",
    "**github 地址： [https://github.com/livingbody/Detection_and_segmentation_of_pathological_myopia](https://github.com/livingbody/Detection_and_segmentation_of_pathological_myopia)**\n",
    "\n",
    "**aistudio地址：[https://aistudio.baidu.com/aistudio/projectdetail/2027061](https://aistudio.baidu.com/aistudio/projectdetail/2027061)**\n",
    "\n",
    "## 1.内容介绍\n",
    "\n",
    "本文采用Paddlex傻瓜式操作，一键获得常规赛第二名，仅供大家参考！\n",
    "\n",
    "![](https://ai-studio-static-online.cdn.bcebos.com/3f6c99fe5da94413a8a5ba6e19fd6f24b314d25a1b6f4bc1879bc51ba8b0f31b)\n",
    "\n",
    "## 2.赛题介绍\n",
    "比赛地址：[https://aistudio.baidu.com/aistudio/competition/detail/87](https://aistudio.baidu.com/aistudio/competition/detail/87)\n",
    "\n",
    "\n",
    "**赛题简述**\n",
    "\t\n",
    "    PALM眼底视盘检测与分割常规赛的重点是研究和发展与患者眼底照片结构分割相关的算法。该常规赛的目标是评估和比较在一个常见的视网膜眼底图像数据集上分割视盘的自动算法。该任务目的是对眼底图像的视盘进行检测，若存在视盘结构，需从眼底图像中分割出视盘区域；若无视盘结构，分割结果直接置全背景。\n",
    "\n",
    "![](https://ai-studio-static-online.cdn.bcebos.com/938ab4fac88e44969e61f8f10181ca1366c53fbc3d6147ff80487b03c964543e)\n",
    "\n",
    "\n",
    "**数据基本标签**\n",
    "\n",
    "\t标签为 0 代表视盘（黑色区域）；标签为 255 代表其他（白色区域）。\n",
    "    \n",
    "\n",
    "**训练数据集**\n",
    "\n",
    "文件名称：Train\n",
    "\n",
    "Train文件夹里有fundus_images文件夹和Disc_Masks文件夹。\n",
    "\n",
    "* fundus_images文件夹内包含800张眼底彩照，分辨率为1444×1444，或2124×2056。命名形如H0001.jpg、N0001.jpg、P0001.jpg和V0001.jpg。\n",
    "\n",
    "* Disc_Masks文件夹内包含fundus_images里眼底彩照的视盘分割金标准，大小与对应的眼底彩照一致。命名前缀和对应的fundus_images文件夹里的图像命名一致，后缀为bmp。\n",
    "\n",
    "**测试数据集**\n",
    "\n",
    "文件名称：PALM-Testing400-Images\n",
    "\n",
    "* 包含400张眼底彩照，命名形如T0001.jpg。\n",
    "\n",
    "## 3.思路办法\n",
    "分割模型可用的方法较多，分别为：\n",
    "* 传统模型手写法\n",
    "* 使用paddlex快速法\n",
    "* 使用paddleseg端到端解决法\n",
    "\n",
    "在此选择paddlex来解决\n",
    "\n",
    "## 4.重点难点\n",
    "* 分割的label的图像mask数据转换（此次涉及背景255----1转换）\n",
    "* 原图与label图大小检测，事实证明此次许多原图和label图大小不一致，直接弃用\n",
    "* 预测结果图像格式转换为需要的提交格式（1--255转换）\n",
    "* 炼丹参数设置，设置不对容易炸，且精度不高\n",
    "\n",
    "## 5.处理重启不释放显存技巧\n",
    "```\n",
    "killall -9 python\n",
    "```\n",
    "\n",
    "## 6.快速显示aistudio图片技巧\n",
    "```\n",
    "%cd ~\n",
    "from PIL import Image\n",
    "\n",
    "# 读取图片\n",
    "png_img = Image.open('dataset/MyDataset/JPEGImages/H0003.jpg')\n",
    "png_img  # 展示图片\n",
    "```\n",
    "## 7.标签背景转换技巧\n",
    "```\n",
    "import PIL.Image as Image\n",
    "from tqdm import tqdm\n",
    "import numpy as np\n",
    "import os\n",
    "\n",
    "!rm 'dataset/MyDataset/Annotations/.DS_Store'\n",
    "\n",
    "print('————开始数据预处理转换————')\n",
    "print('转换说明:')\n",
    "print('\\t 1. 默认标签为255与0，为了训练方便，将255转换为1，变成2分类问题')\n",
    "print('\\t 2. 新标签0与1，预测结束进行后处理即可得到赛题需要的结果')\n",
    "\n",
    "\n",
    "pretrans_img_path = 'dataset/MyDataset/Annotations'\n",
    "for _, _, files in os.walk(pretrans_img_path):\n",
    "    for f in tqdm(files):\n",
    "        img = Image.open(os.path.join(pretrans_img_path, f))\n",
    "        img = np.asarray(img).copy()\n",
    "        img[img == 255] = 1\n",
    "        img = Image.fromarray(img)\n",
    "        img.save(os.path.join(pretrans_img_path, f))\n",
    "```\n",
    "\n",
    "```\n",
    "import PIL.Image as Image\n",
    "from tqdm import tqdm\n",
    "import numpy as np\n",
    "import os\n",
    "import time\n",
    "\n",
    "print('————开始提交结果前的后处理————')\n",
    "\n",
    "!mkdir result1\n",
    "print(\"新建result1保存处理后结果文件夹\")\n",
    "start = time.time()\n",
    "# 预测结果路径\n",
    "open_root = 'result'\n",
    "# 转换处理后保存路径\n",
    "save_root = 'result1'\n",
    "for _, _, files in os.walk(open_root):\n",
    "    for f in tqdm(files):\n",
    "        img = Image.open(os.path.join(open_root, f))\n",
    "        img = np.asarray(img).copy()\n",
    "        # 北京标签改回255\n",
    "        img[img == 1] = 255\n",
    "        img = Image.fromarray(img)\n",
    "        img.save(os.path.join(save_root, f))\n",
    "\n",
    "print('后处理完成(cost: {0} s)！'.format(time.time()-start))\n",
    "```\n",
    "\n"
   ]
  },
  {
   "cell_type": "markdown",
   "metadata": {
    "collapsed": false
   },
   "source": [
    "# 二、比赛数据集情况\n",
    "PALM-Testing400-Images : 测试数据集文件夹\n",
    "\n",
    "Train : 训练数据集文件夹\n",
    "\n",
    "* Disc_Masks   ; 标注图片\n",
    "* fundus_image  : 原始图片\n",
    "\n",
    "> 注意没有验证数据集，这里提供一个简单的划分程序，划分比例为0.7"
   ]
  },
  {
   "cell_type": "markdown",
   "metadata": {
    "collapsed": false
   },
   "source": [
    "## 1.解压缩"
   ]
  },
  {
   "cell_type": "code",
   "execution_count": null,
   "metadata": {
    "collapsed": false
   },
   "outputs": [],
   "source": [
    "# 解压数据集到PaddleSeg目录下的data文件夹\r\n",
    "%cd ~\r\n",
    "!unzip -oq /home/aistudio/data/data85136/常规赛：PALM眼底彩照视盘探测与分割.zip -d dataset"
   ]
  },
  {
   "cell_type": "markdown",
   "metadata": {
    "collapsed": false
   },
   "source": [
    "## 2.格式化存储数据"
   ]
  },
  {
   "cell_type": "code",
   "execution_count": null,
   "metadata": {
    "collapsed": false
   },
   "outputs": [],
   "source": [
    "# 查看数据集文件的树形结构\r\n",
    "!rm dataset/__MACOSX -rf\r\n",
    "!mv dataset/常规赛：PALM眼底彩照视盘探测与分割 dataset/data\r\n",
    "!tree -d dataset/data"
   ]
  },
  {
   "cell_type": "code",
   "execution_count": null,
   "metadata": {
    "collapsed": false
   },
   "outputs": [],
   "source": [
    "!mv dataset/data/Train dataset/MyDataset\r\n",
    "!mv dataset/MyDataset/fundus_image dataset/MyDataset/JPEGImages\r\n",
    "!mv dataset/MyDataset/Disc_Masks dataset/MyDataset/Annotations"
   ]
  },
  {
   "cell_type": "code",
   "execution_count": null,
   "metadata": {
    "collapsed": false
   },
   "outputs": [],
   "source": [
    "!tree -d dataset/MyDataset"
   ]
  },
  {
   "cell_type": "markdown",
   "metadata": {
    "collapsed": false
   },
   "source": [
    "## 3.数据查看"
   ]
  },
  {
   "cell_type": "markdown",
   "metadata": {
    "collapsed": false
   },
   "source": [
    "通过PIL的Image读取图片查看以下原数据与Label标注情况"
   ]
  },
  {
   "cell_type": "code",
   "execution_count": null,
   "metadata": {
    "collapsed": false
   },
   "outputs": [],
   "source": [
    "%cd ~\r\n",
    "from PIL import Image\r\n",
    "\r\n",
    "# 读取图片\r\n",
    "png_img = Image.open('dataset/MyDataset/JPEGImages/H0003.jpg')\r\n",
    "png_img  # 展示图片"
   ]
  },
  {
   "cell_type": "code",
   "execution_count": null,
   "metadata": {
    "collapsed": false
   },
   "outputs": [],
   "source": [
    "bmp_img = Image.open('dataset/MyDataset/Annotations/H0003.bmp')\r\n",
    "bmp_img   # 展示图片"
   ]
  },
  {
   "cell_type": "code",
   "execution_count": null,
   "metadata": {
    "collapsed": false
   },
   "outputs": [],
   "source": [
    "# 比对大小\r\n",
    "print(png_img.size)\r\n",
    "print(bmp_img.size)"
   ]
  },
  {
   "cell_type": "markdown",
   "metadata": {
    "collapsed": false
   },
   "source": [
    "## 4.背景255转1"
   ]
  },
  {
   "cell_type": "markdown",
   "metadata": {
    "collapsed": false
   },
   "source": [
    "可以看出，白色部分全是255，黑色为有效标注区域(0值)"
   ]
  },
  {
   "cell_type": "code",
   "execution_count": null,
   "metadata": {
    "collapsed": false
   },
   "outputs": [],
   "source": [
    "import PIL.Image as Image\r\n",
    "from tqdm import tqdm\r\n",
    "import numpy as np\r\n",
    "import os\r\n",
    "\r\n",
    "!rm 'dataset/MyDataset/Annotations/.DS_Store'\r\n",
    "\r\n",
    "print('————开始数据预处理转换————')\r\n",
    "print('转换说明:')\r\n",
    "print('\\t 1. 默认标签为255与0，为了训练方便，将255转换为1，变成2分类问题')\r\n",
    "print('\\t 2. 新标签0与1，预测结束进行后处理即可得到赛题需要的结果')\r\n",
    "\r\n",
    "\r\n",
    "pretrans_img_path = 'dataset/MyDataset/Annotations'\r\n",
    "for _, _, files in os.walk(pretrans_img_path):\r\n",
    "    for f in tqdm(files):\r\n",
    "        img = Image.open(os.path.join(pretrans_img_path, f))\r\n",
    "        img = np.asarray(img).copy()\r\n",
    "        img[img == 255] = 1\r\n",
    "        img = Image.fromarray(img)\r\n",
    "        img.save(os.path.join(pretrans_img_path, f))"
   ]
  },
  {
   "cell_type": "markdown",
   "metadata": {
    "collapsed": false
   },
   "source": [
    "## 5.批量重命名后缀名"
   ]
  },
  {
   "cell_type": "code",
   "execution_count": null,
   "metadata": {
    "collapsed": false
   },
   "outputs": [],
   "source": [
    "%cd dataset/MyDataset/Annotations\r\n",
    "!rename 's/\\.bmp/\\.png/' ./*\r\n",
    "%cd ~"
   ]
  },
  {
   "cell_type": "markdown",
   "metadata": {
    "collapsed": false
   },
   "source": [
    "## 6.原图与label图尺寸检查\n",
    "不合适的直接删掉"
   ]
  },
  {
   "cell_type": "code",
   "execution_count": null,
   "metadata": {
    "collapsed": false
   },
   "outputs": [],
   "source": [
    "import PIL.Image as Image\r\n",
    "from tqdm import tqdm\r\n",
    "import numpy as np\r\n",
    "import os\r\n",
    "\r\n",
    "\r\n",
    "pretrans_img_path = 'dataset/MyDataset/'\r\n",
    "for _, _, files in os.walk(pretrans_img_path+'JPEGImages'):\r\n",
    "    for f in tqdm(files):\r\n",
    "        img1 = Image.open(os.path.join(pretrans_img_path,'JPEGImages', f))\r\n",
    "        \r\n",
    "        img2 = Image.open(os.path.join(pretrans_img_path,'Annotations', f.split('.')[0]+'.png'))\r\n",
    "\r\n",
    "        if img1.width!=img2.width:\r\n",
    "            print(f)\r\n",
    "            os.remove(os.path.join(pretrans_img_path,'Annotations', f.split('.')[0]+'.png'))\r\n",
    "            os.remove(os.path.join(pretrans_img_path,'JPEGImages', f))"
   ]
  },
  {
   "cell_type": "markdown",
   "metadata": {
    "collapsed": false
   },
   "source": [
    "# 三、划分数据集与数据预处置"
   ]
  },
  {
   "cell_type": "markdown",
   "metadata": {
    "collapsed": false
   },
   "source": [
    "## 1.paddlex安装"
   ]
  },
  {
   "cell_type": "code",
   "execution_count": null,
   "metadata": {
    "collapsed": false
   },
   "outputs": [],
   "source": [
    "!pip install paddlex"
   ]
  },
  {
   "cell_type": "markdown",
   "metadata": {
    "collapsed": false
   },
   "source": [
    "## 2.数据集划分\n",
    "* test就不要了，省下来的都用于训练\n",
    "* 数据存储格式前面已经处理了"
   ]
  },
  {
   "cell_type": "markdown",
   "metadata": {
    "collapsed": false
   },
   "source": [
    "移除原数据，减小项目空间，减少下一次进入和退出保存时花的时间"
   ]
  },
  {
   "cell_type": "code",
   "execution_count": null,
   "metadata": {
    "collapsed": false
   },
   "outputs": [],
   "source": [
    "!paddlex --split_dataset --format Seg --dataset_dir dataset/MyDataset --val_value 0.1"
   ]
  },
  {
   "cell_type": "markdown",
   "metadata": {
    "collapsed": false
   },
   "source": [
    "# 四、数据集设置\n"
   ]
  },
  {
   "cell_type": "markdown",
   "metadata": {
    "collapsed": false
   },
   "source": [
    "## 1.环境设置"
   ]
  },
  {
   "cell_type": "code",
   "execution_count": 2,
   "metadata": {
    "collapsed": false
   },
   "outputs": [],
   "source": [
    "import os\r\n",
    "os.environ['CUDA_VISIBLE_DEVICES'] = '0'\r\n",
    "\r\n",
    "import paddlex as pdx\r\n",
    "from paddlex.seg import transforms"
   ]
  },
  {
   "cell_type": "markdown",
   "metadata": {
    "collapsed": false
   },
   "source": [
    "## 2.transform设置"
   ]
  },
  {
   "cell_type": "code",
   "execution_count": 2,
   "metadata": {
    "collapsed": false
   },
   "outputs": [],
   "source": [
    "# 定义训练和验证时的transforms\r\n",
    "# API说明 https://paddlex.readthedocs.io/zh_CN/develop/apis/transforms/seg_transforms.html\r\n",
    "train_transforms = transforms.Compose([\r\n",
    "    transforms.RandomHorizontalFlip(), transforms.ResizeRangeScaling(),\r\n",
    "    transforms.RandomPaddingCrop(crop_size=512), transforms.Normalize()\r\n",
    "])\r\n",
    "\r\n",
    "eval_transforms = transforms.Compose([\r\n",
    "    transforms.ResizeByLong(long_size=512),\r\n",
    "    transforms.Padding(target_size=512), transforms.Normalize()\r\n",
    "])"
   ]
  },
  {
   "cell_type": "markdown",
   "metadata": {
    "collapsed": false
   },
   "source": [
    "## 3.dataset设置"
   ]
  },
  {
   "cell_type": "code",
   "execution_count": 3,
   "metadata": {
    "collapsed": false
   },
   "outputs": [],
   "source": [
    "# 定义训练和验证所用的数据集\r\n",
    "# API说明：https://paddlex.readthedocs.io/zh_CN/develop/apis/datasets.html#paddlex-datasets-segdataset\r\n",
    "train_dataset = pdx.datasets.SegDataset(\r\n",
    "    data_dir='dataset/MyDataset',\r\n",
    "    file_list='dataset/MyDataset/train_list.txt',\r\n",
    "    label_list='dataset/MyDataset/labels.txt',\r\n",
    "    transforms=train_transforms,\r\n",
    "    shuffle=True)\r\n",
    "eval_dataset = pdx.datasets.SegDataset(\r\n",
    "    data_dir='dataset/MyDataset',\r\n",
    "    file_list='dataset/MyDataset/val_list.txt',\r\n",
    "    label_list='dataset/MyDataset/labels.txt',\r\n",
    "    transforms=eval_transforms)"
   ]
  },
  {
   "cell_type": "markdown",
   "metadata": {
    "collapsed": false
   },
   "source": [
    "# 五、开始构建比赛模型"
   ]
  },
  {
   "cell_type": "markdown",
   "metadata": {
    "collapsed": false
   },
   "source": [
    "## 1.导入需要的库"
   ]
  },
  {
   "cell_type": "code",
   "execution_count": 4,
   "metadata": {
    "collapsed": false
   },
   "outputs": [],
   "source": [
    "# 初始化模型，并进行训练\r\n",
    "# 可使用VisualDL查看训练指标，参考https://paddlex.readthedocs.io/zh_CN/develop/train/visualdl.html\r\n",
    "num_classes = len(train_dataset.labels)\r\n",
    "print(num_classes)"
   ]
  },
  {
   "cell_type": "markdown",
   "metadata": {
    "collapsed": false
   },
   "source": [
    "## 2.创建模型"
   ]
  },
  {
   "cell_type": "code",
   "execution_count": 5,
   "metadata": {
    "collapsed": false
   },
   "outputs": [],
   "source": [
    "# API说明：https://paddlex.readthedocs.io/zh_CN/develop/apis/models/semantic_segmentation.html#paddlex-seg-deeplabv3p\r\n",
    "# model = pdx.seg.DeepLabv3p(\r\n",
    "#     num_classes=num_classes,\r\n",
    "#     backbone='MobileNetV3_large_x1_0_ssld',\r\n",
    "#     pooling_crop_size=(512, 512))\r\n",
    "\r\n",
    "# API说明：https://paddlex.readthedocs.io/zh_CN/develop/apis/models/semantic_segmentation.html#paddlex-seg-deeplabv3p\r\n",
    "model = pdx.seg.DeepLabv3p(\r\n",
    "    num_classes=num_classes,\r\n",
    "    backbone='MobileNetV3_large_x1_0_ssld',\r\n",
    "    pooling_crop_size=(512, 512))"
   ]
  },
  {
   "cell_type": "markdown",
   "metadata": {
    "collapsed": false
   },
   "source": [
    "## 3.开始训练"
   ]
  },
  {
   "cell_type": "markdown",
   "metadata": {
    "collapsed": false
   },
   "source": [
    "### 3.1 训练"
   ]
  },
  {
   "cell_type": "code",
   "execution_count": 6,
   "metadata": {
    "collapsed": false
   },
   "outputs": [],
   "source": [
    "# API说明：https://paddlex.readthedocs.io/zh_CN/develop/apis/models/semantic_segmentation.html#train\r\n",
    "# 各参数介绍与调整说明：https://paddlex.readthedocs.io/zh_CN/develop/appendix/parameters.html\r\n",
    "model.train(\r\n",
    "    num_epochs=100,\r\n",
    "    train_dataset=train_dataset,\r\n",
    "    train_batch_size=110,\r\n",
    "    eval_dataset=eval_dataset,\r\n",
    "    learning_rate=0.01,\r\n",
    "    save_dir='output/deeplabv3p_mobilenetv3_large_ssld',\r\n",
    "    # resume_checkpoint ='output/hrnet/epoch_16',\r\n",
    "    use_vdl=True)"
   ]
  },
  {
   "cell_type": "markdown",
   "metadata": {
    "collapsed": false
   },
   "source": [
    "### 3.2 训练图\n",
    "\n",
    "#### vdl图\n",
    "![](https://ai-studio-static-online.cdn.bcebos.com/d14d8bda6b8c4a56abd86887a6f2ad278886eaf5095349119b6352014d6fd0ec)\n",
    "#### cpu内存消耗图\n",
    "![](https://ai-studio-static-online.cdn.bcebos.com/772fba399a984c3f893f8443dbeebc10443a19944e044a6ca9a64e75640e4348)\n",
    "#### gpu显存消耗图\n",
    "![](https://ai-studio-static-online.cdn.bcebos.com/0b957bba010a491ba126659abb2253efafc7329b140748e982fc3b8b5f32ed4e)\n"
   ]
  },
  {
   "cell_type": "markdown",
   "metadata": {
    "collapsed": false
   },
   "source": [
    "## 4.开始预测"
   ]
  },
  {
   "cell_type": "markdown",
   "metadata": {
    "collapsed": false
   },
   "source": [
    "预测的配置略微不同，需要读取`test_list.txt`中的文件进入list中，然后传入list以及Image_dir进行预测\n",
    "\n",
    "> 前面的训练与验证是通过给dir，自动搜寻，这里不一样，要注意一下哦"
   ]
  },
  {
   "cell_type": "markdown",
   "metadata": {
    "collapsed": false
   },
   "source": [
    "### 4.1获取预测数据列表"
   ]
  },
  {
   "cell_type": "code",
   "execution_count": 3,
   "metadata": {
    "collapsed": false
   },
   "outputs": [],
   "source": [
    "base_dir='dataset/data/PALM-Testing400-Images'\r\n",
    "test_list=[]\r\n",
    "for f in os.listdir(base_dir):\r\n",
    "    test_list.append(f+'\\n')\r\n",
    "print(len(test_list))\r\n",
    "# 写入文件\r\n",
    "with open('test_list.txt', 'w') as f:\r\n",
    "    f.writelines(test_list)"
   ]
  },
  {
   "cell_type": "code",
   "execution_count": 4,
   "metadata": {
    "collapsed": false
   },
   "outputs": [],
   "source": [
    "test_list = []\r\n",
    "test_root = 'dataset/data/PALM-Testing400-Images'      # 之前划分数据图像保存的根路径\r\n",
    "with open('test_list.txt') as f: \r\n",
    "    for i in f.readlines():\r\n",
    "        test_list.append(os.path.join(test_root, i[:-1]))   # 逐行写入，-1是为了去掉 \\n\r\n",
    "print(test_list[0])"
   ]
  },
  {
   "cell_type": "markdown",
   "metadata": {
    "collapsed": false
   },
   "source": [
    "### 4.2 循环预测"
   ]
  },
  {
   "cell_type": "code",
   "execution_count": 10,
   "metadata": {
    "collapsed": false
   },
   "outputs": [],
   "source": [
    "import paddlex as pdx\r\n",
    "model = pdx.load_model('output/deeplabv3p_mobilenetv3_large_ssld/best_model')\r\n",
    "\r\n",
    "from tqdm import tqdm\r\n",
    "import cv2\r\n",
    "\r\n",
    "# 预测结果保存路径\r\n",
    "!mkdir result\r\n",
    "print(\"新建result保存结果文件夹\")\r\n",
    "\r\n",
    "out_base = 'result/'\r\n",
    "# 之前划分数据图像保存的根路径\r\n",
    "test_root = 'dataset/data/PALM-Testing400-Images/'      \r\n",
    "# 如果不存在result目录，则新建\r\n",
    "if not os.path.exists(test_root):\r\n",
    "    os.makedirs(out_base)\r\n",
    "\r\n",
    "\r\n",
    "for im in tqdm(os.listdir(test_root)):\r\n",
    "    if not im.endswith('.jpg'):\r\n",
    "        continue\r\n",
    "    pt = test_root + im\r\n",
    "    \r\n",
    "    # 预测\r\n",
    "    result = model.predict(pt)\r\n",
    "    # 另存\r\n",
    "    cv2.imwrite(out_base+im.replace('jpg', 'png'), result['label_map'])    "
   ]
  },
  {
   "cell_type": "markdown",
   "metadata": {
    "collapsed": false
   },
   "source": [
    "## 5.后处理并生成提交文件\n"
   ]
  },
  {
   "cell_type": "markdown",
   "metadata": {
    "collapsed": false
   },
   "source": [
    "### 5.1将背景1处理为255"
   ]
  },
  {
   "cell_type": "code",
   "execution_count": 12,
   "metadata": {
    "collapsed": false
   },
   "outputs": [],
   "source": [
    "import PIL.Image as Image\r\n",
    "from tqdm import tqdm\r\n",
    "import numpy as np\r\n",
    "import os\r\n",
    "import time\r\n",
    "\r\n",
    "print('————开始提交结果前的后处理————')\r\n",
    "\r\n",
    "!mkdir result1\r\n",
    "print(\"新建result1保存处理后结果文件夹\")\r\n",
    "start = time.time()\r\n",
    "# 预测结果路径\r\n",
    "open_root = 'result'\r\n",
    "# 转换处理后保存路径\r\n",
    "save_root = 'result1'\r\n",
    "for _, _, files in os.walk(open_root):\r\n",
    "    for f in tqdm(files):\r\n",
    "        img = Image.open(os.path.join(open_root, f))\r\n",
    "        img = np.asarray(img).copy()\r\n",
    "        # 北京标签改回255\r\n",
    "        img[img == 1] = 255\r\n",
    "        img = Image.fromarray(img)\r\n",
    "        img.save(os.path.join(save_root, f))\r\n",
    "\r\n",
    "print('后处理完成(cost: {0} s)！'.format(time.time()-start))"
   ]
  },
  {
   "cell_type": "markdown",
   "metadata": {
    "collapsed": false
   },
   "source": [
    "### 5.2重命名文件夹并打压缩"
   ]
  },
  {
   "cell_type": "code",
   "execution_count": 13,
   "metadata": {
    "collapsed": false
   },
   "outputs": [],
   "source": [
    "# 重命名\r\n",
    "!mv result1 Disc_Segmentation"
   ]
  },
  {
   "cell_type": "code",
   "execution_count": 14,
   "metadata": {
    "collapsed": false
   },
   "outputs": [],
   "source": [
    "# 生成提交文件\r\n",
    "!zip -r Disc_Segmentation.zip Disc_Segmentation/"
   ]
  },
  {
   "cell_type": "markdown",
   "metadata": {
    "collapsed": false
   },
   "source": [
    "# 六、提交结果\n",
    "这块一定要注意提交的东西：平时测试提交的结果文件，后续审查需要提交代码、模型文件，缺一不可。所以每次训练感觉好的模型、代码及时保存。\n",
    "\n",
    "## 1.上传生成的压缩包即可提交\n",
    "![](https://ai-studio-static-online.cdn.bcebos.com/f9328734f8934ea793e828b20bd097929ec669cf1c88413e89a7c3e4cb0d4b89)\n",
    "\n",
    "## 2.打包最佳模型\n",
    "\n",
    "```\n",
    "zip -r  best_model.zip ./best_model/\n",
    "```\n",
    "\n",
    "![](https://ai-studio-static-online.cdn.bcebos.com/241e99f153c7497b9af3e3eabdeb8d6a7b41c8ffa2d248c989835872d0bbb259)\n",
    "\n",
    "## 3.打包notebook\n",
    "```\n",
    "zip ipynb.zip 1970708.ipynb \n",
    "```\n",
    "\n",
    "![](https://ai-studio-static-online.cdn.bcebos.com/becb365da0514c54858718048b8b0f493acb0a4adcb94d27bbfb624f13c8b7e5)\n",
    "\n",
    "\n"
   ]
  },
  {
   "cell_type": "markdown",
   "metadata": {
    "collapsed": false
   },
   "source": [
    "# 七、注意事项\n",
    "## 1.这种题要多看看，有些分割的mask尺寸就是不对，坑！！！\n",
    "这个原因我删除了十几条训练数据。\n",
    "## 2.分割数据一定要转格式\n",
    "格式一定要正确，不正确的话很容易出问题，所以训练前数据处理，预测后数据处理很重要。\n",
    "## 3.其它一些清理步骤选择性使用即可\n",
    "在使用过程中会产生大量中间数据，请谨慎使用。"
   ]
  }
 ],
 "metadata": {
  "kernelspec": {
   "display_name": "PaddlePaddle 2.0.0b0 (Python 3.5)",
   "language": "python",
   "name": "py35-paddle1.2.0"
  },
  "language_info": {
   "codemirror_mode": {
    "name": "ipython",
    "version": 3
   },
   "file_extension": ".py",
   "mimetype": "text/x-python",
   "name": "python",
   "nbconvert_exporter": "python",
   "pygments_lexer": "ipython3",
   "version": "3.7.4"
  }
 },
 "nbformat": 4,
 "nbformat_minor": 1
}
